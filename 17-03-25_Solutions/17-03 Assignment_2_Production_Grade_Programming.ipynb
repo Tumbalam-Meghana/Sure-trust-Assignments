{
 "cells": [
  {
   "cell_type": "markdown",
   "metadata": {
    "id": "77zLnpaNvNSp"
   },
   "source": [
    "## <u> Problem 1</u>\n",
    "\n",
    "### Create a class <code>Cylinder</code> which takes two attributes <code>radius</code> and <code>height</code>.\n",
    "\n",
    "### Create the following methods in this class:\n",
    "\n",
    "* ### method <code>volume()</code> which calculates the volume of the cyinder which is defined as $V  = \\pi r^2 h$\n",
    "\n",
    "* ### method <code>surface_area()</code> which calculates the area of the cyinder which is defined as $S  = 2\\pi r h$. Assume this is an open cylinder\n"
   ]
  },
  {
   "cell_type": "code",
   "execution_count": 28,
   "metadata": {
    "id": "-cWkCZ5OzX0G"
   },
   "outputs": [],
   "source": [
    "# Write your code below. Take pi as 3.14\n",
    "class Cylinder:\n",
    "    def __init__(self, radius, height):\n",
    "        self.radius = radius\n",
    "        self.height = height\n",
    "\n",
    "    def volume(self):\n",
    "        return 3.14* self.radius ** 2 * self.height\n",
    "\n",
    "    def surface_area(self):\n",
    "        return 2 * 3.14 * self.radius * self.height"
   ]
  },
  {
   "cell_type": "code",
   "execution_count": 29,
   "metadata": {
    "id": "tgS3mhN-18b_"
   },
   "outputs": [
    {
     "name": "stdout",
     "output_type": "stream",
     "text": [
      "Volume of the cylinder: 785.00\n",
      "Surface Area  of the cylinder: 314.00\n",
      "Volume of the cylinder: 14130.00\n",
      "Surface Area  of the cylinder: 1884.00\n"
     ]
    }
   ],
   "source": [
    "# Check for sample inputs\n",
    "cyl = Cylinder(5, 10)\n",
    "print(f\"Volume of the cylinder: {cyl.volume():.2f}\")\n",
    "print(f\"Surface Area  of the cylinder: {cyl.surface_area():.2f}\")\n",
    "#Example 2\n",
    "cyl = Cylinder(15, 20)\n",
    "print(f\"Volume of the cylinder: {cyl.volume():.2f}\")\n",
    "print(f\"Surface Area  of the cylinder: {cyl.surface_area():.2f}\")\n",
    "\n"
   ]
  },
  {
   "cell_type": "markdown",
   "metadata": {
    "id": "KjPWYK0Rs8By"
   },
   "source": [
    "## <u>Problem 2</u>\n",
    "\n",
    "### You started your own money wallet where your customers can create their accounts and they can either deposit or withdraw money from this wallet.\n",
    "\n",
    "### Write a Python class <code>BankAccount</code> which takes the balance as an attribute. You can initialize the balance with 0 because any new account will have 0 rupees in their wallet. Next write two methods for your class :\n",
    "\n",
    "* #### <code>withdraw()</code> method which takes the amount to be withdrawn as an argument and returns the balance after the withdrawal\n",
    "\n",
    "* #### <code>deposit()</code> method which takes the amount to be deposited as an argument and returns the balance after the deposit.\n",
    "\n",
    "### Keep in mind that if the balance to be withdrawn exceeds the current balance, it should display a message that \"Not enough balance in your account\"\n"
   ]
  },
  {
   "cell_type": "code",
   "execution_count": 30,
   "metadata": {
    "id": "RxVZTrenzfHC"
   },
   "outputs": [],
   "source": [
    "class BankAccount:\n",
    "    def __init__(self,balance=0):\n",
    "            self.balance=balance\n",
    "    def deposit(self,amount):\n",
    "            self.balance+=amount\n",
    "            return  self.balance\n",
    "    def withdraw(self,amount):\n",
    "        if(self.balance < amount):\n",
    "                print(\"The amount is not sufficient money to withdraw.\")\n",
    "                return self.balance\n",
    "        else:\n",
    "                self.balance-=amount\n",
    "                return self.balance\n",
    "\n"
   ]
  },
  {
   "cell_type": "code",
   "execution_count": 31,
   "metadata": {
    "id": "N1Yhpkiws8B3"
   },
   "outputs": [],
   "source": [
    "# Create two instances of this class for two customers\n",
    "customer_1 = BankAccount()\n",
    "customer_2 = BankAccount()"
   ]
  },
  {
   "cell_type": "markdown",
   "metadata": {
    "id": "mSTxPcO3fWeX"
   },
   "source": [
    "### Next add some amount and withdraw some another amount for both the customers."
   ]
  },
  {
   "cell_type": "code",
   "execution_count": 32,
   "metadata": {
    "id": "KpMdlB5Fs8B8"
   },
   "outputs": [
    {
     "name": "stdout",
     "output_type": "stream",
     "text": [
      "Deposit 500: 1500\n",
      "The amount is not sufficient money to withdraw.\n",
      "Withdraw 200: 1500\n",
      "Withdraw 400: 1100\n",
      "Deposit 1000: 1000\n",
      "The amount is not sufficient money to withdraw.\n",
      "Withdraw 300: 1000\n",
      "Withdraw 800: 200\n"
     ]
    }
   ],
   "source": [
    "# Deposit some amount and withdrawing some amount from the two accounts and check if your method works fine\n",
    "print(\"Deposit 500:\", customer_1.deposit(1500)) \n",
    "print(\"Withdraw 200:\", customer_1.withdraw(2000))  \n",
    "print(\"Withdraw 400:\", customer_1.withdraw(400))  \n",
    "# Transactions for customer2\n",
    "print(\"Deposit 1000:\", customer_2.deposit(1000))  \n",
    "print(\"Withdraw 300:\", customer_2.withdraw(3200))  \n",
    "print(\"Withdraw 800:\", customer_2.withdraw(800))"
   ]
  },
  {
   "cell_type": "markdown",
   "metadata": {
    "id": "5qd8g8UUs8CM"
   },
   "source": [
    "## <u>Problem 3 </u>\n",
    "\n",
    "### Create a class <code>Time </code> which takes two inputs hours and minutes to instantiate.\n",
    "*  #### Construct a method <code>DisplayTime()</code> which displays the time in AM/PM formats. For example if the input is 14 hours and 45 mins, then this method will print \"The time is 2:45 PM\". If the inputted hours exceeds 23 then print the message \"The input hours should be less than 24\" and if the inputted minutes exceeds 59 then print the message \"The input minutes should be less than 60.\" Also if the input is 12 hours 30 minutes, then the displayed time would be 12:30 PM\n",
    "* #### Construct a method <code>DisplayRatio()</code> which should display the ratio of minutes to hours. For example, (8 hours and  16 mins) should display 2. Use <code>try</code>, <code>except</code> block to account for ZeroDivisionError."
   ]
  },
  {
   "cell_type": "code",
   "execution_count": 38,
   "metadata": {
    "id": "FBJy9Sq_s8CN"
   },
   "outputs": [],
   "source": [
    "class Time:\n",
    "    def __init__(self, hours, minutes):\n",
    "        self.hours = hours\n",
    "        self.minutes = minutes\n",
    "    \n",
    "    def DisplayTime(self):\n",
    "        if self.hours >= 24:\n",
    "            print(\"The input hours should be less than 24.\")\n",
    "            return\n",
    "        if self.minutes >= 60:\n",
    "            print(\"The input minutes should be less than 60.\")\n",
    "            return\n",
    "        \n",
    "        period = \"AM\" if self.hours < 12 else \"PM\"\n",
    "        display_hours = self.hours % 12\n",
    "        display_hours = 12 if display_hours == 0 else display_hours\n",
    "        \n",
    "        print(f\"The time is {display_hours}:{self.minutes:02d} {period}\")\n",
    "    \n",
    "    def DisplayRatio(self):\n",
    "        try:\n",
    "            ratio = self.minutes // self.hours\n",
    "            print(f\"The ratio of minutes to hours is {ratio}\")\n",
    "        except ZeroDivisionError:\n",
    "            print(\"Cannot divide by zero. Hours should be greater than 0.\")\n"
   ]
  },
  {
   "cell_type": "code",
   "execution_count": 40,
   "metadata": {
    "id": "zywXa51d6Eev"
   },
   "outputs": [
    {
     "name": "stdout",
     "output_type": "stream",
     "text": [
      "The time is 11:45 PM\n",
      "The ratio of minutes to hours is 1\n",
      "-\n",
      "The input hours should be less than 24.\n",
      "The ratio of minutes to hours is 1\n",
      "-\n",
      "The time is 12:34 PM\n",
      "The ratio of minutes to hours is 2\n",
      "-\n",
      "The input minutes should be less than 60.\n",
      "The ratio of minutes to hours is 4\n",
      "-\n",
      "The time is 7:20 PM\n",
      "The ratio of minutes to hours is 1\n",
      "-\n",
      "The time is 2:15 AM\n",
      "The ratio of minutes to hours is 7\n",
      "-\n",
      "The time is 12:10 AM\n",
      "Cannot divide by zero. Hours should be greater than 0.\n",
      "-\n"
     ]
    }
   ],
   "source": [
    "# Check for few sample inputs of hours and mins\n",
    "hour_min_list = [(23,45), (34,50), (12,34), (14,67),(19,20), (2,15), (0, 10)]\n",
    "\n",
    "# Using a for loop display the corresponding 12 hour time format for the above hour_min_list\n",
    "\n",
    "for hours, minutes in hour_min_list:\n",
    "    time_instance = Time(hours, minutes)\n",
    "    time_instance.DisplayTime()\n",
    "    time_instance.DisplayRatio()\n",
    "    print(\"-\")"
   ]
  },
  {
   "cell_type": "markdown",
   "metadata": {
    "id": "mgcu1_SAjAqF"
   },
   "source": [
    "## <u>Problem 4: Employee Management System with Exception Handling</u>\n",
    "\n",
    "**Scenario:**\n",
    "\n",
    "A company manages employees, where each employee has a name, an employee ID, and a salary. Employees can receive promotions, which increase their salary. However, if an invalid salary increment is given (such as a negative value), the system should raise an exception.\n",
    "\n",
    "**Task:**\n",
    "Create a Employee class with the following attributes and methods:\n",
    "\n",
    "    Attributes:\n",
    "    - name (str), employee_id (str), and salary (float).\n",
    "    Methods:\n",
    "    - promote(increment): Increases the salary by the given amount. If the increment is negative, raise an InvalidSalaryIncrementException.\n",
    "    - display_info(): Prints employee details.\n",
    "\n",
    "Define a custom exception *InvalidSalaryIncrementException* that is raised when an invalid salary increment is provided.\n",
    "\n",
    "**Steps to Solve:**\n",
    "- Create an `Employee` class with the required attributes.\n",
    "- Define a custom exception `InvalidSalaryIncrementException`.\n",
    "- Implement the `promote(increment)` method that validates the increment before applying it.\n",
    "- Implement `display_info()` to show employee details.\n",
    "- Write a test case where a negative salary increment is attempted, and handle the exception gracefully.\n"
   ]
  },
  {
   "cell_type": "markdown",
   "metadata": {},
   "source": [
    "### **Test Cases for Employee Management System with Exception Handling**  \n",
    "\n",
    "#### **Test Case 1: Valid Salary Increment**  \n",
    "**Input:**  \n",
    "```python\n",
    "emp = Employee(\"Alice Johnson\", \"EMP1001\", 50000)\n",
    "emp.promote(5000)\n",
    "emp.display_info()\n",
    "```\n",
    "**Expected Output:**  \n",
    "```\n",
    "Alice Johnson has been promoted! New salary: $55000.00\n",
    "Employee ID: EMP1001 | Name: Alice Johnson | Salary: $55000.00\n",
    "```\n",
    "\n",
    "---\n",
    "\n",
    "#### **Test Case 2: Invalid Salary Increment (Negative Value)**  \n",
    "**Input:**  \n",
    "```python\n",
    "emp = Employee(\"Bob Smith\", \"EMP1002\", 60000)\n",
    "try:\n",
    "    emp.promote(-3000)\n",
    "except InvalidSalaryIncrementException as e:\n",
    "    print(\"Error:\", e)\n",
    "emp.display_info()\n",
    "```\n",
    "**Expected Output:**  \n",
    "```\n",
    "Error: Invalid increment: $-3000.00. It must be positive.\n",
    "Employee ID: EMP1002 | Name: Bob Smith | Salary: $60000.00\n",
    "```\n",
    "\n",
    "---\n",
    "\n",
    "#### **Test Case 3: Multiple Promotions**  \n",
    "**Input:**  \n",
    "```python\n",
    "emp = Employee(\"Charlie Brown\", \"EMP1003\", 45000)\n",
    "emp.promote(4000)\n",
    "emp.promote(6000)\n",
    "emp.display_info()\n",
    "```\n",
    "**Expected Output:**  \n",
    "```\n",
    "Charlie Brown has been promoted! New salary: $49000.00\n",
    "Charlie Brown has been promoted! New salary: $55000.00\n",
    "Employee ID: EMP1003 | Name: Charlie Brown | Salary: $55000.00\n",
    "```\n",
    "\n",
    "---\n",
    "\n",
    "#### **Test Case 4: Zero Salary Increment**  \n",
    "**Input:**  \n",
    "```python\n",
    "emp = Employee(\"David Miller\", \"EMP1004\", 70000)\n",
    "try:\n",
    "    emp.promote(0)\n",
    "except InvalidSalaryIncrementException as e:\n",
    "    print(\"Error:\", e)\n",
    "emp.display_info()\n",
    "```\n",
    "**Expected Output:**  \n",
    "```\n",
    "Error: Invalid increment: $0.00. It must be positive.\n",
    "Employee ID: EMP1004 | Name: David Miller | Salary: $70000.00\n",
    "```\n",
    "\n",
    "---\n",
    "\n",
    "### **Summary of Test Cases**\n",
    "| **Test Case** | **Input** | **Expected Output** |\n",
    "|--------------|----------|--------------------|\n",
    "| **Valid Salary Increment** | `promote(5000)` | Salary increases successfully |\n",
    "| **Invalid Salary Increment (Negative)** | `promote(-3000)` | Exception is raised |\n",
    "| **Multiple Promotions** | `promote(4000)`, `promote(6000)` | Salary updates twice correctly |\n",
    "| **Zero Salary Increment** | `promote(0)` | Exception is raised |\n",
    "\n"
   ]
  },
  {
   "cell_type": "code",
   "execution_count": 34,
   "metadata": {},
   "outputs": [],
   "source": [
    "class InvalidSalaryIncrementException(Exception):\n",
    "    def __init__(self, message=\"Salary increment must be a positive number\"):\n",
    "        self.message = message\n",
    "        super().__init__(self.message)\n",
    "class Employee:\n",
    "    def __init__(self, name, emp_id, sal):\n",
    "        self.name = name\n",
    "        self.emp_id = emp_id\n",
    "        self.sal= sal\n",
    "\n",
    "    def promote(self, increment):\n",
    "        try:\n",
    "            if increment < 0:\n",
    "                raise InvalidSalaryIncrementException(\"Invalid increment: Cannot be negative.\")\n",
    "            self.sal += increment\n",
    "            print(f\"Salary increased by {increment}. New Salary: {self.sal:.2f}\")\n",
    "        except InvalidSalaryIncrementException as e:\n",
    "            print(f\"Exception: {e}\")\n",
    "\n",
    "    def display_info(self):\n",
    "        print(f\"Employee ID: {self.emp_id}\")\n",
    "        print(f\"Name: {self.name}\")\n",
    "        print(f\"Salary: {self.sal:.2f}\")"
   ]
  },
  {
   "cell_type": "code",
   "execution_count": 35,
   "metadata": {},
   "outputs": [
    {
     "name": "stdout",
     "output_type": "stream",
     "text": [
      "Salary increased by 5000. New Salary: 55000.00\n",
      "Employee ID: EMP1001\n",
      "Name: Alice Johnson\n",
      "Salary: 55000.00\n",
      "Exception: Invalid increment: Cannot be negative.\n",
      "Employee ID: EMP1002\n",
      "Name: Bob Smith\n",
      "Salary: 60000.00\n",
      "Salary increased by 4000. New Salary: 49000.00\n",
      "Salary increased by 6000. New Salary: 55000.00\n",
      "Employee ID: EMP1003\n",
      "Name: Charlie Brown\n",
      "Salary: 55000.00\n",
      "Salary increased by 5000. New Salary: 75000.00\n",
      "Employee ID: EMP1004\n",
      "Name: David Miller\n",
      "Salary: 75000.00\n"
     ]
    }
   ],
   "source": [
    "#Test case 1\n",
    "emp1 = Employee(\"Alice Johnson\", \"EMP1001\", 50000)\n",
    "emp1.promote(5000)\n",
    "emp1.display_info()\n",
    "#Test case 2\n",
    "emp2 = Employee(\"Bob Smith\", \"EMP1002\", 60000)\n",
    "emp2.promote(-3000)\n",
    "emp2.display_info()\n",
    "#Test case 3\n",
    "emp3 = Employee(\"Charlie Brown\", \"EMP1003\", 45000)\n",
    "emp3.promote(4000)\n",
    "emp3.promote(6000)\n",
    "emp3.display_info()\n",
    "#Test case 4\n",
    "emp4 = Employee(\"David Miller\", \"EMP1004\", 70000)\n",
    "emp4.promote(5000)\n",
    "emp4.display_info()\n"
   ]
  }
 ],
 "metadata": {
  "colab": {
   "provenance": []
  },
  "kernelspec": {
   "display_name": "Python 3",
   "language": "python",
   "name": "python3"
  },
  "language_info": {
   "codemirror_mode": {
    "name": "ipython",
    "version": 3
   },
   "file_extension": ".py",
   "mimetype": "text/x-python",
   "name": "python",
   "nbconvert_exporter": "python",
   "pygments_lexer": "ipython3",
   "version": "3.12.9"
  }
 },
 "nbformat": 4,
 "nbformat_minor": 1
}
