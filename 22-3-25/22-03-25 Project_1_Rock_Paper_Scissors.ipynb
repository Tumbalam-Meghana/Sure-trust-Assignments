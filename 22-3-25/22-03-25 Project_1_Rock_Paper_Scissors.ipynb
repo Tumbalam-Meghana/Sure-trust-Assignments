{
 "cells": [
  {
   "cell_type": "markdown",
   "id": "10c7113b",
   "metadata": {},
   "source": [
    "\n",
    "# Rock-Paper-Scissors - Milestone Project\n",
    "\n",
    "## Introduction\n",
    "This project will guide you through implementing a simple **Rock-Paper-Scissors** game using **Classes and Objects**. \n",
    "\n",
    "You will complete the tasks step by step, testing each part before moving to the next.\n"
   ]
  },
  {
   "cell_type": "markdown",
   "id": "369198a5",
   "metadata": {},
   "source": [
    "\n",
    "## Task 1: Create the Player Class\n",
    "\n",
    "**Instructions:**\n",
    "1. Define a class `Player` with:\n",
    "   - `name` (string) to store the player's name.\n",
    "   - `score` (integer) initialized to 0.\n",
    "   - A method `choose_move()` that asks for user input (**rock, paper, or scissors**) and returns the choice.\n",
    "2. Validate user input (must be rock, paper, or scissors).\n",
    "\n",
    "**Test Case:**\n",
    "- Create a `Player` object and call `choose_move()`.\n"
   ]
  },
  {
   "cell_type": "code",
   "execution_count": 9,
   "id": "2838669c",
   "metadata": {},
   "outputs": [],
   "source": [
    "class Player:\n",
    "    def __init__(self, name):\n",
    "        self.name = name\n",
    "        self.score = 0\n",
    "\n",
    "    def choose_move(self):\n",
    "        move = input(f\"{self.name}, enter your move (rock, paper, or scissors): \").lower()\n",
    "        while move not in [\"rock\", \"paper\", \"scissors\"]:\n",
    "            print(\"Invalid choice. Please enter rock, paper, or scissors.\")\n",
    "            move = input(f\"{self.name}, enter your move (rock, paper, or scissors): \").lower()\n",
    "        return move"
   ]
  },
  {
   "cell_type": "code",
   "execution_count": 10,
   "id": "764c3ae0",
   "metadata": {},
   "outputs": [
    {
     "name": "stdout",
     "output_type": "stream",
     "text": [
      "rock\n"
     ]
    }
   ],
   "source": [
    "player1 = Player(\"Meghana\")\n",
    "print(player1.choose_move())  # Expected: rock, paper, or scissors (user input)"
   ]
  },
  {
   "cell_type": "markdown",
   "id": "405e88a4",
   "metadata": {},
   "source": [
    "\n",
    "## Task 2: Create the Computer Class\n",
    "\n",
    "**Instructions:**\n",
    "1. Define a class `Computer` that **inherits** from `Player`.\n",
    "2. Override the `choose_move()` method to return a random choice of rock, paper, or scissors.\n",
    "\n",
    "**Test Case:**\n",
    "- Create a `Computer` object and call `choose_move()` multiple times to check randomness.\n"
   ]
  },
  {
   "cell_type": "code",
   "execution_count": 11,
   "id": "d216adf4",
   "metadata": {},
   "outputs": [],
   "source": [
    "import random\n",
    "\n",
    "class Computer(Player):\n",
    "    def choose_move(self):\n",
    "        return random.choice([\"rock\", \"paper\", \"scissors\"])"
   ]
  },
  {
   "cell_type": "code",
   "execution_count": 12,
   "id": "fcdeab2c",
   "metadata": {},
   "outputs": [
    {
     "name": "stdout",
     "output_type": "stream",
     "text": [
      "rock\n"
     ]
    }
   ],
   "source": [
    "computer = Computer(\"AI\")\n",
    "print(computer.choose_move())  # Expected: Randomly rock, paper, or scissors\n"
   ]
  },
  {
   "cell_type": "markdown",
   "id": "be1a3bfd",
   "metadata": {},
   "source": [
    "\n",
    "## Task 3: Implement Game Logic\n",
    "\n",
    "**Instructions:**\n",
    "1. Define a function `determine_winner(player_choice, computer_choice)`. \n",
    "2. Use game rules:\n",
    "   - Rock beats Scissors\n",
    "   - Scissors beat Paper\n",
    "   - Paper beats Rock\n",
    "3. Return \"Player wins\", \"Computer wins\", or \"It's a tie\".\n",
    "\n",
    "**Test Case:**\n",
    "- Call `determine_winner()` with different move combinations.\n"
   ]
  },
  {
   "cell_type": "code",
   "execution_count": 13,
   "id": "9fea4e4c",
   "metadata": {},
   "outputs": [],
   "source": [
    "# Task 3: Implement Game Logic\n",
    "def determine_winner(player_choice, computer_choice):\n",
    "    if player_choice == computer_choice:\n",
    "        return \"It's a tie\"\n",
    "    elif (player_choice == \"rock\" and computer_choice == \"scissors\") or \\\n",
    "         (player_choice == \"scissors\" and computer_choice == \"paper\") or \\\n",
    "         (player_choice == \"paper\" and computer_choice == \"rock\"):\n",
    "        return \"Player wins\"\n",
    "    else:\n",
    "        return \"Computer wins\""
   ]
  },
  {
   "cell_type": "code",
   "execution_count": 14,
   "id": "d1bcb7b2",
   "metadata": {},
   "outputs": [
    {
     "name": "stdout",
     "output_type": "stream",
     "text": [
      "Player wins\n",
      "Player wins\n",
      "Computer wins\n",
      "It's a tie\n"
     ]
    }
   ],
   "source": [
    "print(determine_winner(\"rock\", \"scissors\"))  # Expected: Player wins\n",
    "print(determine_winner(\"paper\", \"rock\"))  # Expected: Player wins\n",
    "print(determine_winner(\"scissors\", \"rock\"))  # Expected: Computer wins\n",
    "print(determine_winner(\"rock\", \"rock\")) # Expected: Tie"
   ]
  },
  {
   "cell_type": "markdown",
   "id": "89b553ff",
   "metadata": {},
   "source": [
    "\n",
    "## Task 4: Implement Game Loop\n",
    "\n",
    "**Instructions:**\n",
    "1. Create a class `Game` to manage the game.\n",
    "2. The game should:\n",
    "   - Ask the player for their move.\n",
    "   - Get the computer's move.\n",
    "   - Determine the winner.\n",
    "   - Track scores (best of 3 rounds).\n",
    "   - Ask if the player wants to play again.\n",
    "\n",
    "**Test Case:**\n",
    "- Run the game loop and check for correct scorekeeping.\n"
   ]
  },
  {
   "cell_type": "code",
   "execution_count": 15,
   "id": "ea7e113d",
   "metadata": {},
   "outputs": [],
   "source": [
    "class Game:\n",
    "    def __init__(self):\n",
    "        self.player = Player(input(\"Enter name of the player: \"))\n",
    "        self.computer = Computer(\"AI\")\n",
    "        self.player_score = 0\n",
    "        self.computer_score = 0\n",
    "\n",
    "    def play_round(self):\n",
    "        player_move = self.player.choose_move()\n",
    "        computer_move = self.computer.choose_move()\n",
    "        print(f\"Computer choosed: {computer_move}\")\n",
    "        \n",
    "        result = determine_winner(player_move, computer_move)\n",
    "        print(result)\n",
    "        \n",
    "        if result == \"Player wins\":\n",
    "            self.player_score += 1\n",
    "        elif result == \"Computer wins\":\n",
    "            self.computer_score += 1\n",
    "\n",
    "        print(f\"Score of the player - {self.player.name}: {self.player_score}, Computer: {self.computer_score}\")\n",
    "\n",
    "    def play_game(self):\n",
    "        print(\"Starting Rock-Paper-Scissors! Best of 3 rounds.\")\n",
    "        while self.player_score < 2 and self.computer_score < 2:\n",
    "            self.play_round()\n",
    "\n",
    "        print(f\"Final Score - {self.player.name}: {self.player_score}, Computer: {self.computer_score}\")\n",
    "        if self.player_score > self.computer_score:\n",
    "            print(f\"{self.player.name} wins the game!\")\n",
    "        else:\n",
    "            print(\"Computer wins the game!\")\n",
    "\n",
    "        self.play_again()\n",
    "\n",
    "    def play_again(self):\n",
    "        replay = input(\"Do you want to play again? (yes/no): \").lower()\n",
    "        if replay == \"yes\":\n",
    "            self.player_score = 0\n",
    "            self.computer_score = 0\n",
    "            self.play_game()\n",
    "        else:\n",
    "            print(\"Thanks for playing!\")"
   ]
  },
  {
   "cell_type": "markdown",
   "id": "58f9aa5c",
   "metadata": {},
   "source": [
    "\n",
    "## Final Task: Add Replay Option\n",
    "\n",
    "**Instructions:**\n",
    "1. Modify `Game` class to ask if the user wants to play again.\n",
    "2. If yes, reset scores and start a new game.\n",
    "\n",
    "**Test Case:**\n",
    "- Run the game and test replay functionality.\n"
   ]
  },
  {
   "cell_type": "code",
   "execution_count": 16,
   "id": "6e420bfc",
   "metadata": {},
   "outputs": [
    {
     "name": "stdout",
     "output_type": "stream",
     "text": [
      "Starting Rock-Paper-Scissors! Best of 3 rounds.\n",
      "Computer choosed: rock\n",
      "It's a tie\n",
      "Score of the player - meghana: 0, Computer: 0\n",
      "Computer choosed: rock\n",
      "Player wins\n",
      "Score of the player - meghana: 1, Computer: 0\n",
      "Computer choosed: scissors\n",
      "It's a tie\n",
      "Score of the player - meghana: 1, Computer: 0\n",
      "Computer choosed: rock\n",
      "Player wins\n",
      "Score of the player - meghana: 2, Computer: 0\n",
      "Final Score - meghana: 2, Computer: 0\n",
      "meghana wins the game!\n",
      "Thanks for playing!\n"
     ]
    }
   ],
   "source": [
    "# Run the game\n",
    "game = Game()\n",
    "game.play_game()"
   ]
  }
 ],
 "metadata": {
  "kernelspec": {
   "display_name": "Python 3",
   "language": "python",
   "name": "python3"
  },
  "language_info": {
   "codemirror_mode": {
    "name": "ipython",
    "version": 3
   },
   "file_extension": ".py",
   "mimetype": "text/x-python",
   "name": "python",
   "nbconvert_exporter": "python",
   "pygments_lexer": "ipython3",
   "version": "3.12.9"
  }
 },
 "nbformat": 4,
 "nbformat_minor": 5
}
