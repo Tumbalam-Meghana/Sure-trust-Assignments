{
 "cells": [
  {
   "cell_type": "markdown",
   "id": "76a0ec55",
   "metadata": {},
   "source": [
    "Question 1: Calculate Euclidean distance\n",
    "\n",
    "Write a Python program to calculate Euclidean Distance."
   ]
  },
  {
   "cell_type": "code",
   "execution_count": 3,
   "id": "6774210e",
   "metadata": {},
   "outputs": [
    {
     "name": "stdout",
     "output_type": "stream",
     "text": [
      "1 7 3 9\n",
      "2.8284271247461903\n"
     ]
    }
   ],
   "source": [
    "x1 = int(input())\n",
    "y1 = int(input())\n",
    "x2 = int(input())\n",
    "y2 = int(input())\n",
    "print(x1,y1,x2,y2)\n",
    "d=((y2-y1)**2 +(x2-x1)**2)**0.5\n",
    "print(d)"
   ]
  },
  {
   "cell_type": "markdown",
   "id": "75ab3794",
   "metadata": {},
   "source": [
    "Question 2:Reverse the input"
   ]
  },
  {
   "cell_type": "code",
   "execution_count": 1,
   "id": "5c975467",
   "metadata": {},
   "outputs": [
    {
     "name": "stdout",
     "output_type": "stream",
     "text": [
      "programs\n"
     ]
    },
    {
     "data": {
      "text/plain": [
       "'smargorp'"
      ]
     },
     "execution_count": 1,
     "metadata": {},
     "output_type": "execute_result"
    }
   ],
   "source": [
    "a= input()\n",
    "print(a)\n",
    "a[::-1]"
   ]
  },
  {
   "cell_type": "markdown",
   "id": "aec6aa48",
   "metadata": {},
   "source": [
    "Question 3: Finding the temperatures of closest temperature"
   ]
  },
  {
   "cell_type": "code",
   "execution_count": 6,
   "id": "4bde8546",
   "metadata": {},
   "outputs": [
    {
     "name": "stdout",
     "output_type": "stream",
     "text": [
      "[1, 7, 9, 2, 10]\n",
      "[0, 3]\n"
     ]
    }
   ],
   "source": [
    "def find_closest_pair(nums):\n",
    "    closest_inds = None\n",
    "    closest_dist = None\n",
    "    for ind, num1 in enumerate(nums):\n",
    "        for other_ind, num2 in enumerate(nums):\n",
    "            if num1 != num2 and ((closest_dist is None) or abs(num1 - num2) < closest_dist):\n",
    "                closest_dist = abs(num1 - num2)\n",
    "                closest_inds = [ind, other_ind]\n",
    "                if num1 <= num2:\n",
    "                    closest_inds = [ind, other_ind]\n",
    "                else:\n",
    "                    closest_inds = [other_ind, ind]\n",
    "    return closest_inds\n",
    "nums = eval(input())\n",
    "print(nums)\n",
    "print(find_closest_pair(nums))"
   ]
  },
  {
   "cell_type": "markdown",
   "id": "b75181fa",
   "metadata": {},
   "source": [
    "Question 4: Strange Sort: Alternating Smallest and Largest"
   ]
  },
  {
   "cell_type": "code",
   "execution_count": 12,
   "id": "83b53cc3",
   "metadata": {},
   "outputs": [
    {
     "name": "stdout",
     "output_type": "stream",
     "text": [
      "[1, 3, 4, 5, 11]\n",
      "[1, 11, 3, 5, 4]\n"
     ]
    }
   ],
   "source": [
    "def Strange(array):\n",
    "    array.sort()\n",
    "    res=[]\n",
    "    i,j=0,len(array)-1\n",
    "    while i<=j:\n",
    "        res.append(array[i])\n",
    "        i+=1\n",
    "        if i<=j:\n",
    "            res.append(array[j])\n",
    "            j-=1\n",
    "    return res\n",
    "a=list(map(int,input().split(',')))\n",
    "print(a)\n",
    "print(Strange(a))\n"
   ]
  },
  {
   "cell_type": "markdown",
   "id": "9294105f",
   "metadata": {},
   "source": [
    "Question 5:Pangram"
   ]
  },
  {
   "cell_type": "code",
   "execution_count": null,
   "id": "919902d0",
   "metadata": {},
   "outputs": [
    {
     "name": "stdout",
     "output_type": "stream",
     "text": [
      "User input :  The qucik brown fox jumps over the lazy dog\n",
      "True\n"
     ]
    }
   ],
   "source": [
    "import string \n",
    "def pangram(sentence):\n",
    "    sentence=sentence.lower()\n",
    "    for i in string.ascii_lowercase:\n",
    "        if i not in sentence:\n",
    "            return False \n",
    "    return True\n",
    "sentence=input()\n",
    "print(\"Enter the sentence : \",sentence)\n",
    "print(pangram(sentence))"
   ]
  }
 ],
 "metadata": {
  "kernelspec": {
   "display_name": "Python 3",
   "language": "python",
   "name": "python3"
  },
  "language_info": {
   "codemirror_mode": {
    "name": "ipython",
    "version": 3
   },
   "file_extension": ".py",
   "mimetype": "text/x-python",
   "name": "python",
   "nbconvert_exporter": "python",
   "pygments_lexer": "ipython3",
   "version": "3.12.9"
  }
 },
 "nbformat": 4,
 "nbformat_minor": 5
}
