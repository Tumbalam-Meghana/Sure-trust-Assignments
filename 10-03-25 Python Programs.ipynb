{
 "cells": [
  {
   "cell_type": "markdown",
   "metadata": {},
   "source": [
    "## **Scenario 1: Inventory Management System**\n",
    "\n",
    "Develop an inventory management system for a small retail store. The system should allow the store to:\n",
    "\n",
    "- Add new products with their quantities and prices.\n",
    "- Update stock quantities of existing products.\n",
    "- Calculate the total value of the inventory.\n",
    "\n",
    "**Instructions:**\n",
    "\n",
    "1. Create a function `add_product` that adds a new product to the inventory. The inventory should be a dictionary where the keys are product names, and the values are dictionaries containing 'quantity' and 'price' keys.\n",
    "2. Create a function `update_stock` that updates the stock quantity of an existing product.\n",
    "3. Create a function `calculate_inventory_value` that calculates and prints the total value of the inventory.\n",
    "\n",
    "**Sample Test Case 1:**\n",
    "\n",
    "```python\n",
    "inventory = {}\n",
    "add_product(inventory, 'apple', 50, 0.5)\n",
    "add_product(inventory, 'banana', 100, 0.2)\n",
    "update_stock(inventory, 'apple', 25)\n",
    "calculate_inventory_value(inventory)\n",
    "```\n",
    "--------\n",
    "Expected Output:\n",
    "\n",
    "Total inventory value: $57.50\n",
    "\n",
    "-----\n",
    "\n",
    "**Sample Test Case 2:**\n",
    "\n",
    "```python\n",
    "# Initialize an empty inventory\n",
    "inventory = {}\n",
    "\n",
    "# Add new products to the inventory\n",
    "add_product(inventory, 'milk', 30, 1.5)\n",
    "add_product(inventory, 'bread', 20, 2.0)\n",
    "add_product(inventory, 'eggs', 50, 0.1)\n",
    "\n",
    "# Update stock quantities\n",
    "update_stock(inventory, 'milk', 10)   # Adding 10 more units of milk\n",
    "update_stock(inventory, 'eggs', -5)   # Selling 5 units of eggs\n",
    "\n",
    "# Calculate the total value of the inventory\n",
    "calculate_inventory_value(inventory)\n",
    "```\n",
    "\n",
    "--------\n",
    "Expected Output:\n",
    "\n",
    "Total inventory value: $104.50\n",
    "\n",
    "Explanation:\n",
    "\n",
    "- Milk: Initially, there are 30 units priced at 1.50 each. Adding 10 more units results in 40 units. The total value for milk is 40 x 1.50 = 60.00.\n",
    "\n",
    "- Bread: There are 20 units priced at 2.00 each. The total value for bread is 20 x 2.00 = 40.00.\n",
    "\n",
    "- Eggs: Initially, there are 50 units priced at $0.10 each. Selling 5 units reduces the quantity to 45 units. The total value for eggs is 45 x 0.10 = 4.50. Summing these values gives the total inventory value: 60.00 + 40.00 + 4.50 = 104.50."
   ]
  },
  {
   "cell_type": "code",
   "execution_count": 2,
   "metadata": {},
   "outputs": [],
   "source": [
    "def add_product(inventory, product_name, quantity, price):\n",
    "    if product_name in inventory:\n",
    "        print(f\"Error: {product_name} already exists in inventory\")\n",
    "        return\n",
    "    if quantity<0:\n",
    "        print(\"Error : Quantity  must be positive\")\n",
    "        return\n",
    "    if price<0:\n",
    "        print(\"Error : price must be positive\")\n",
    "    inventory[product_name] = {'quantity': quantity, 'price': price}\n",
    "    \n",
    "def update_stock(inventory, product_name, quantity_change):\n",
    "    if product_name not in inventory:\n",
    "        print(\"Error: {product_name} does not exist in the inventory\")\n",
    "        return\n",
    "    if quantity_change==0:\n",
    "        print(\"Error: Quantity change cannot be zero\")\n",
    "        return\n",
    "    new_quantity=inventory[product_name]['quantity']+quantity_change\n",
    "    if new_quantity<0:\n",
    "        print(\"Error: not enough stock{product_name} to complete\")\n",
    "        return\n",
    "    inventory[product_name]['quantity'] = new_quantity\n",
    "    \n",
    "def calculate_inventory_value(inventory):\n",
    "    total_value = sum(item['quantity'] * item['price'] for item in inventory.values())\n",
    "    print(\"Total inventory value: ${total_value}\")"
   ]
  },
  {
   "cell_type": "code",
   "execution_count": 3,
   "metadata": {},
   "outputs": [
    {
     "name": "stdout",
     "output_type": "stream",
     "text": [
      "Total inventory value: ${total_value}\n"
     ]
    }
   ],
   "source": [
    "#TestCase 1\n",
    "inventory = {}\n",
    "add_product(inventory, 'milk', 30, 1.5)\n",
    "add_product(inventory, 'bread', 20, 2.0)\n",
    "add_product(inventory, 'eggs', 50,0.1)\n",
    "update_stock(inventory, 'milk', 10)\n",
    "update_stock(inventory, 'eggs', -5)\n",
    "calculate_inventory_value(inventory)\n"
   ]
  },
  {
   "cell_type": "code",
   "execution_count": null,
   "metadata": {},
   "outputs": [
    {
     "name": "stdout",
     "output_type": "stream",
     "text": [
      "Total inventory value: ${total_value}\n"
     ]
    }
   ],
   "source": [
    "#Test Case 2\n",
    "inventory = {}\n",
    "add_product(inventory, 'apple', 50, 0.5)\n",
    "add_product(inventory, 'banana', 100, 0.2)\n",
    "update_stock(inventory, 'apple', 25)\n",
    "calculate_inventory_value(inventory)"
   ]
  },
  {
   "cell_type": "markdown",
   "metadata": {},
   "source": [
    "## **Scenario 2: Student Grades Analysis**  \n",
    "\n",
    "Develop a system to manage and analyze student grades. The system should allow:\n",
    "\n",
    "- Adding student names with their corresponding grades.\n",
    "- Calculating the average grade of the class.\n",
    "- Determining the highest and lowest grades.\n",
    "\n",
    "### **Instructions:**\n",
    "1. Create a function `add_student` that adds a student's name and grade to a dictionary.  \n",
    "2. Create a function `calculate_average_grade` that calculates and prints the average grade of all students.  \n",
    "3. Create a function `find_highest_and_lowest_grade` that finds and prints the highest and lowest grades among students.  \n",
    "\n",
    "---\n",
    "\n",
    "### **Sample Test Case 1**  \n",
    "\n",
    "#### **Input:**\n",
    "```python\n",
    "grades = {}\n",
    "add_student(grades, 'Alice', 85)\n",
    "add_student(grades, 'Bob', 92)\n",
    "add_student(grades, 'Charlie', 78)\n",
    "calculate_average_grade(grades)\n",
    "find_highest_and_lowest_grade(grades)\n",
    "```\n",
    "\n",
    "#### **Expected Output:**  \n",
    "```\n",
    "Average grade: 85.00  \n",
    "Highest grade: 92  \n",
    "Lowest grade: 78  \n",
    "```\n",
    "\n",
    "#### **Explanation:**  \n",
    "- Three students are added with grades: Alice (85), Bob (92), and Charlie (78).  \n",
    "- The **average grade** is calculated as **(85 + 92 + 78) / 3 = 85.00**.  \n",
    "- The **highest grade** is 92 (Bob), and the **lowest grade** is 78 (Charlie).  \n",
    "\n",
    "---\n",
    "\n",
    "### **Sample Test Case 2**  \n",
    "\n",
    "#### **Input:**\n",
    "```python\n",
    "grades = {}\n",
    "add_student(grades, 'David', 88)\n",
    "add_student(grades, 'Eva', 95)\n",
    "add_student(grades, 'Frank', 67)\n",
    "calculate_average_grade(grades)\n",
    "find_highest_and_lowest_grade(grades)\n",
    "```\n",
    "\n",
    "#### **Expected Output:**  \n",
    "```\n",
    "Average grade: 83.33  \n",
    "Highest grade: 95  \n",
    "Lowest grade: 67  \n",
    "```\n",
    "\n",
    "#### **Explanation:**  \n",
    "- Three students are added with grades: David (88), Eva (95), and Frank (67).  \n",
    "- The **average grade** is calculated as **(88 + 95 + 67) / 3 = 83.33**.  \n",
    "- The **highest grade** is 95 (Eva), and the **lowest grade** is 67 (Frank).  \n",
    "\n",
    "---"
   ]
  },
  {
   "cell_type": "code",
   "execution_count": 15,
   "metadata": {},
   "outputs": [],
   "source": [
    "def add_student(grades,name,grade):\n",
    "    grades[name]=grade\n",
    "def calculate_average_grade(grades):\n",
    "    if not grades:\n",
    "        print(\"No students in the record\")\n",
    "        return\n",
    "    average_grade=sum(grades.values())/len(grades)\n",
    "    print(f\"Average grade is : {average_grade:.2f}\")\n",
    "def find_highest_and_lowest_grade(grades):\n",
    "    if not grades:\n",
    "        print(\"No students in the record\")\n",
    "        return\n",
    "    highest_grade=max(grades.values())\n",
    "    lowest_grade=min(grades.values())\n",
    "    print(f\"Highest grade is: {highest_grade}\")\n",
    "    print(f\"lowest grade is:{lowest_grade}\")"
   ]
  },
  {
   "cell_type": "code",
   "execution_count": null,
   "metadata": {},
   "outputs": [
    {
     "name": "stdout",
     "output_type": "stream",
     "text": [
      "Average grade is : 85.00\n",
      "Highest grade is: 92\n",
      "lowest grade is:78\n"
     ]
    }
   ],
   "source": [
    "#TestCase 1\n",
    "grades = {}\n",
    "add_student(grades, 'Alice', 85)\n",
    "add_student(grades, 'Bob', 92)\n",
    "add_student(grades, 'Charlie', 78)\n",
    "calculate_average_grade(grades)\n",
    "find_highest_and_lowest_grade(grades)\n"
   ]
  },
  {
   "cell_type": "code",
   "execution_count": null,
   "metadata": {},
   "outputs": [
    {
     "name": "stdout",
     "output_type": "stream",
     "text": [
      "Average grade is : 83.33\n",
      "Highest grade is: 95\n",
      "lowest grade is:67\n"
     ]
    }
   ],
   "source": [
    "#TestCase 2\n",
    "grades = {}\n",
    "add_student(grades, 'David', 88)\n",
    "add_student(grades, 'Eva', 95)\n",
    "add_student(grades, 'Frank', 67)\n",
    "calculate_average_grade(grades)\n",
    "find_highest_and_lowest_grade(grades)"
   ]
  },
  {
   "cell_type": "markdown",
   "metadata": {},
   "source": [
    "# **Scenario 3: Library Book Catalog**  \n",
    "\n",
    "Create a system to manage a library's book catalog. The system should allow:  \n",
    "\n",
    "- Adding new books with their titles, authors, and publication years.  \n",
    "- Retrieving all books written by a specific author.  \n",
    "\n",
    "---\n",
    "\n",
    "### **Instructions:**  \n",
    "\n",
    "1. Create a function `add_book` that adds a new book to the catalog. The catalog should be a list of dictionaries, each containing `'title'`, `'author'`, and `'year'`.  \n",
    "2. Create a function `find_books_by_author` that returns all books written by a specific author.  \n",
    "\n",
    "---\n",
    "\n",
    "### **Sample Test Case 1:**  \n",
    "\n",
    "```python\n",
    "catalog = []\n",
    "add_book(catalog, 'To Kill a Mockingbird', 'Harper Lee', 1960)\n",
    "add_book(catalog, '1984', 'George Orwell', 1949)\n",
    "add_book(catalog, 'Animal Farm', 'George Orwell', 1945)\n",
    "find_books_by_author(catalog, 'George Orwell')\n",
    "```\n",
    "\n",
    "**Expected Output:**  \n",
    "\n",
    "```\n",
    "Books by George Orwell:\n",
    "- 1984 (1949)\n",
    "- Animal Farm (1945)\n",
    "```\n",
    "\n",
    "**Explanation:**  \n",
    "- The function `add_book` stores the books in a list.  \n",
    "- The function `find_books_by_author` searches for books by \"George Orwell\" and returns the matching results.  \n",
    "\n",
    "---\n",
    "\n",
    "### **Sample Test Case 2:**  \n",
    "\n",
    "```python\n",
    "catalog = []\n",
    "add_book(catalog, 'Pride and Prejudice', 'Jane Austen', 1813)\n",
    "add_book(catalog, 'Sense and Sensibility', 'Jane Austen', 1811)\n",
    "add_book(catalog, 'Moby-Dick', 'Herman Melville', 1851)\n",
    "find_books_by_author(catalog, 'Jane Austen')\n",
    "```\n",
    "\n",
    "**Expected Output:**  \n",
    "\n",
    "```\n",
    "Books by Jane Austen:\n",
    "- Pride and Prejudice (1813)\n",
    "- Sense and Sensibility (1811)\n",
    "```\n",
    "\n",
    "**Explanation:**  \n",
    "- The function `find_books_by_author` filters books by \"Jane Austen\" and lists her books along with their publication years."
   ]
  },
  {
   "cell_type": "code",
   "execution_count": 1,
   "metadata": {},
   "outputs": [],
   "source": [
    "def add_book(catalog,title,author,year):\n",
    "    catalog.append({'title':title,'author':author,'year':year})\n",
    "def find_books_by_author(catalog,author):\n",
    "    books_by_author=[book for book in catalog if book['author']==author]\n",
    "    if books_by_author:\n",
    "        print(f\"Books by {author}:\")\n",
    "        for book in books_by_author:\n",
    "            print(f\"- {book['title']} ({book['year']})\")\n",
    "    else:\n",
    "        print(f\"No books found {author}.\")"
   ]
  },
  {
   "cell_type": "code",
   "execution_count": null,
   "metadata": {},
   "outputs": [
    {
     "name": "stdout",
     "output_type": "stream",
     "text": [
      "Books by George Orwell:\n",
      "- 1984 (1949)\n",
      "- Animal Farm (1945)\n"
     ]
    }
   ],
   "source": [
    "#TestCase 1\n",
    "catalog = []\n",
    "add_book(catalog, 'To Kill a Mockingbird', 'Harper Lee', 1960)\n",
    "add_book(catalog, '1984', 'George Orwell', 1949)\n",
    "add_book(catalog, 'Animal Farm', 'George Orwell', 1945)\n",
    "find_books_by_author(catalog, 'George Orwell')"
   ]
  },
  {
   "cell_type": "code",
   "execution_count": null,
   "metadata": {},
   "outputs": [
    {
     "name": "stdout",
     "output_type": "stream",
     "text": [
      "Books by Jane Austen:\n",
      "- Pride and Prejudice (1813)\n",
      "- Sense and Sensibility (1811)\n"
     ]
    }
   ],
   "source": [
    "#TestCase 2\n",
    "catalog = []\n",
    "add_book(catalog, 'Pride and Prejudice', 'Jane Austen', 1813)\n",
    "add_book(catalog, 'Sense and Sensibility', 'Jane Austen', 1811)\n",
    "add_book(catalog, 'Moby-Dick', 'Herman Melville', 1851)\n",
    "find_books_by_author(catalog, 'Jane Austen')"
   ]
  },
  {
   "cell_type": "markdown",
   "metadata": {},
   "source": [
    "# **Scenario 4: Employee Record System**  \n",
    "\n",
    "Develop an employee record system for a company. The system should allow:  \n",
    "\n",
    "- Adding new employees with their names, departments, and salaries.  \n",
    "- Finding employees who belong to a specific department.  \n",
    "- Calculating the average salary of all employees.  \n",
    "\n",
    "---\n",
    "\n",
    "### **Instructions:**  \n",
    "\n",
    "1. Create a function `add_employee` that adds an employee to the record. The record should be a list of dictionaries, where each dictionary contains `'name'`, `'department'`, and `'salary'`.  \n",
    "2. Create a function `find_employees_by_department` that retrieves all employees belonging to a given department.  \n",
    "3. Create a function `calculate_average_salary` that calculates and prints the average salary of all employees.  \n",
    "\n",
    "---\n",
    "\n",
    "### **Sample Test Case 1:**  \n",
    "\n",
    "```python\n",
    "employees = []\n",
    "add_employee(employees, 'Alice', 'HR', 60000)\n",
    "add_employee(employees, 'Bob', 'IT', 75000)\n",
    "add_employee(employees, 'Charlie', 'IT', 80000)\n",
    "find_employees_by_department(employees, 'IT')\n",
    "calculate_average_salary(employees)\n",
    "```\n",
    "\n",
    "**Expected Output:**  \n",
    "\n",
    "```\n",
    "Employees in IT:\n",
    "- Bob (Salary: $75000)\n",
    "- Charlie (Salary: $80000)\n",
    "\n",
    "Average salary: $71666.67\n",
    "```\n",
    "\n",
    "**Explanation:**  \n",
    "- The function `find_employees_by_department` retrieves all employees in the IT department.  \n",
    "- The function `calculate_average_salary` computes the mean salary of all employees.  \n",
    "\n",
    "---\n",
    "\n",
    "### **Sample Test Case 2:**  \n",
    "\n",
    "```python\n",
    "employees = []\n",
    "add_employee(employees, 'David', 'Finance', 85000)\n",
    "add_employee(employees, 'Emma', 'Finance', 90000)\n",
    "add_employee(employees, 'Frank', 'Marketing', 65000)\n",
    "find_employees_by_department(employees, 'Finance')\n",
    "calculate_average_salary(employees)\n",
    "```\n",
    "\n",
    "**Expected Output:**  \n",
    "\n",
    "```\n",
    "Employees in Finance:\n",
    "- David (Salary: $85000)\n",
    "- Emma (Salary: $90000)\n",
    "\n",
    "Average salary: $80000.00\n",
    "```\n",
    "\n",
    "**Explanation:**  \n",
    "- The function `find_employees_by_department` retrieves employees working in the Finance department.  \n",
    "- The function `calculate_average_salary` finds the average of all employees' salaries.  \n",
    "\n",
    "---\n"
   ]
  },
  {
   "cell_type": "code",
   "execution_count": 7,
   "metadata": {},
   "outputs": [],
   "source": [
    "def add_employee(employeees,name,department,salary):\n",
    "    if name in employeees:\n",
    "        print(\"It is already exists\")\n",
    "        return\n",
    "    employeees.append({'name':name,'department':department,'salary':salary})\n",
    "def find_employees_by_department(employees,department):\n",
    "    flag=False\n",
    "    for employee in employees:\n",
    "        if employee['department']==department:\n",
    "            print(f\"{employee['name']}(Salary: {employee['salary']})\")\n",
    "            flag=True\n",
    "        if not flag:\n",
    "            print(\"No employees found\")\n",
    "def calculate_average_salary(employees):\n",
    "    if len(employees)==0:\n",
    "        print(\"No employees are there\")\n",
    "        return\n",
    "    total=0\n",
    "    for employee in employees:\n",
    "        total+=employee['salary']\n",
    "    print(f\"Average Salary : {total/len(employees):.2f}\")\n"
   ]
  },
  {
   "cell_type": "code",
   "execution_count": 8,
   "metadata": {},
   "outputs": [
    {
     "name": "stdout",
     "output_type": "stream",
     "text": [
      "No employees found\n",
      "Bob(Salary: 75000)\n",
      "Charlie(Salary: 80000)\n",
      "Average Salary : 71666.67\n"
     ]
    }
   ],
   "source": [
    "#TestCase 1\n",
    "employees = []\n",
    "add_employee(employees, 'Alice', 'HR', 60000)\n",
    "add_employee(employees, 'Bob', 'IT', 75000)\n",
    "add_employee(employees, 'Charlie', 'IT', 80000)\n",
    "find_employees_by_department(employees, 'IT')\n",
    "calculate_average_salary(employees)\n",
    "\n"
   ]
  },
  {
   "cell_type": "code",
   "execution_count": 9,
   "metadata": {},
   "outputs": [
    {
     "name": "stdout",
     "output_type": "stream",
     "text": [
      "David(Salary: 85000)\n",
      "Emma(Salary: 90000)\n",
      "Average Salary : 80000.00\n"
     ]
    }
   ],
   "source": [
    "\n",
    "#TestCase 2\n",
    "employees = []\n",
    "add_employee(employees, 'David', 'Finance', 85000)\n",
    "add_employee(employees, 'Emma', 'Finance', 90000)\n",
    "add_employee(employees, 'Frank', 'Marketing', 65000)\n",
    "find_employees_by_department(employees, 'Finance')\n",
    "calculate_average_salary(employees)\n",
    "\n"
   ]
  },
  {
   "cell_type": "markdown",
   "metadata": {},
   "source": [
    "\n",
    "# **Scenario 5: Online Shopping Cart**  \n",
    "\n",
    "Develop an online shopping cart system that allows customers to:  \n",
    "\n",
    "- Add items to their cart with their prices and quantities.  \n",
    "- Remove items from the cart.  \n",
    "- Calculate the total cost of the cart.  \n",
    "\n",
    "---\n",
    "\n",
    "### **Instructions:**  \n",
    "\n",
    "1. Create a function `add_to_cart` that adds an item to the shopping cart. The cart should be a dictionary where keys are item names and values are dictionaries containing `'quantity'` and `'price'`.  \n",
    "2. Create a function `remove_from_cart` that removes an item from the cart.  \n",
    "3. Create a function `calculate_total_cost` that calculates and prints the total cost of all items in the cart.  \n",
    "\n",
    "---\n",
    "\n",
    "### **Sample Test Case 1:**  \n",
    "\n",
    "```python\n",
    "cart = {}\n",
    "add_to_cart(cart, 'Laptop', 1, 1200)\n",
    "add_to_cart(cart, 'Headphones', 2, 150)\n",
    "calculate_total_cost(cart)\n",
    "remove_from_cart(cart, 'Headphones')\n",
    "calculate_total_cost(cart)\n",
    "```\n",
    "\n",
    "**Expected Output:**  \n",
    "\n",
    "```\n",
    "Total cost: $1500.00\n",
    "Item 'Headphones' removed.\n",
    "Total cost: $1200.00\n",
    "```\n",
    "\n",
    "**Explanation:**  \n",
    "- The function `calculate_total_cost` sums up the total value of items in the cart.  \n",
    "- The function `remove_from_cart` removes 'Headphones' and recalculates the total cost.  \n",
    "\n",
    "---\n",
    "\n",
    "### **Sample Test Case 2:**  \n",
    "\n",
    "```python\n",
    "cart = {}\n",
    "add_to_cart(cart, 'Phone', 1, 800)\n",
    "add_to_cart(cart, 'Charger', 1, 50)\n",
    "add_to_cart(cart, 'Tablet', 2, 500)\n",
    "calculate_total_cost(cart)\n",
    "remove_from_cart(cart, 'Charger')\n",
    "calculate_total_cost(cart)\n",
    "```\n",
    "\n",
    "**Expected Output:**  \n",
    "\n",
    "```\n",
    "Total cost: $1850.00\n",
    "Item 'Charger' removed.\n",
    "Total cost: $1800.00\n",
    "```\n",
    "\n",
    "**Explanation:**  \n",
    "- The function `calculate_total_cost` initially calculates the total cost of all items.  \n",
    "- After removing the 'Charger', the function updates the total cost."
   ]
  },
  {
   "cell_type": "code",
   "execution_count": null,
   "metadata": {},
   "outputs": [],
   "source": [
    "def add_to_cart(cart,item,quantity,price):\n",
    "    if item in cart:\n",
    "        cart[item]['quantity']+=quantity\n",
    "    else:\n",
    "        cart[item]={'quantity':quantity,'price':price}\n",
    "def remove_from_cart(cart,item):\n",
    "    if item in cart:\n",
    "        del cart[item]\n",
    "        print(f\"{item} removed form a cart\")\n",
    "    else:\n",
    "        print(f\"{item} not found\")\n",
    "def calculate_total_cost(cart):\n",
    "    total=sum(item['quantity']*item['price'] for item in cart.values())\n",
    "    print(f\"Total cost of the cart : ${total:.2f}\")\n",
    "         "
   ]
  },
  {
   "cell_type": "code",
   "execution_count": 12,
   "metadata": {},
   "outputs": [
    {
     "name": "stdout",
     "output_type": "stream",
     "text": [
      "Total cost of the cart : $1500.00\n",
      "Headphones removed form a cart\n",
      "Total cost of the cart : $1200.00\n"
     ]
    }
   ],
   "source": [
    "#Test Case 1\n",
    "cart={}\n",
    "add_to_cart(cart, 'Laptop', 1, 1200)\n",
    "add_to_cart(cart, 'Headphones', 2, 150)\n",
    "calculate_total_cost(cart)\n",
    "remove_from_cart(cart, 'Headphones')\n",
    "calculate_total_cost(cart)\n"
   ]
  },
  {
   "cell_type": "code",
   "execution_count": 13,
   "metadata": {},
   "outputs": [
    {
     "name": "stdout",
     "output_type": "stream",
     "text": [
      "Total cost of the cart : $1850.00\n",
      "Charger removed form a cart\n",
      "Total cost of the cart : $1800.00\n"
     ]
    }
   ],
   "source": [
    "cart = {}\n",
    "add_to_cart(cart, 'Phone', 1, 800)\n",
    "add_to_cart(cart, 'Charger', 1, 50)\n",
    "add_to_cart(cart, 'Tablet', 2, 500)\n",
    "calculate_total_cost(cart)\n",
    "remove_from_cart(cart, 'Charger')\n",
    "calculate_total_cost(cart)\n",
    "\n"
   ]
  }
 ],
 "metadata": {
  "kernelspec": {
   "display_name": "Python 3",
   "language": "python",
   "name": "python3"
  },
  "language_info": {
   "codemirror_mode": {
    "name": "ipython",
    "version": 3
   },
   "file_extension": ".py",
   "mimetype": "text/x-python",
   "name": "python",
   "nbconvert_exporter": "python",
   "pygments_lexer": "ipython3",
   "version": "3.12.9"
  }
 },
 "nbformat": 4,
 "nbformat_minor": 2
}
