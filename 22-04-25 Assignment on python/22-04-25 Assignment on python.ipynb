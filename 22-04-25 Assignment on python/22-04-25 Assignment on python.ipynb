{
 "cells": [
  {
   "cell_type": "markdown",
   "id": "36397b17",
   "metadata": {},
   "source": [
    "1.Write a Python program that takes a sentence as input and returns a dictionary where the \n",
    "keys are vowels and the values are the number of times each vowel appears in the sentence. \n",
    "Ignore case. \n",
    "Example Input: \"Education is important\" \n",
    "Expected Output: {'a': 2, 'e': 1, 'i': 2, 'o': 1, 'u': 1}"
   ]
  },
  {
   "cell_type": "code",
   "execution_count": 3,
   "id": "a8fc0bdc",
   "metadata": {},
   "outputs": [
    {
     "name": "stdout",
     "output_type": "stream",
     "text": [
      "education is important\n",
      "{'e': 1, 'u': 1, 'a': 2, 'i': 3, 'o': 2}\n"
     ]
    }
   ],
   "source": [
    "sentence = input()\n",
    "sentence = sentence.lower()  \n",
    "vowels = 'aeiou'\n",
    "vowel_cnt = {}\n",
    "for i in sentence:\n",
    "    if i in vowels:\n",
    "        if i in vowel_cnt:\n",
    "            vowel_cnt[i] += 1\n",
    "        else:\n",
    "            vowel_cnt[i] = 1\n",
    "print(sentence)\n",
    "print(vowel_cnt)"
   ]
  },
  {
   "cell_type": "markdown",
   "id": "d8ff6897",
   "metadata": {},
   "source": [
    "Q2. Write a function that checks if a given number is a palindrome. Then write another function \n",
    "that prints all palindrome numbers between two given numbers (inclusive). \n",
    "Example Input: start = 100, end = 150 \n",
    "Expected Output: 101 111 121 131 141"
   ]
  },
  {
   "cell_type": "code",
   "execution_count": 4,
   "id": "8dbdc405",
   "metadata": {},
   "outputs": [
    {
     "name": "stdout",
     "output_type": "stream",
     "text": [
      "101 111 121 131 141 "
     ]
    }
   ],
   "source": [
    "def is_palindrome(nums):\n",
    "    return str(nums) == str(nums)[::-1]\n",
    "def printing_palindromes(start, end):\n",
    "    for nums in range(start, end + 1):\n",
    "        if is_palindrome(nums):\n",
    "            print(nums, end=' ')\n",
    "start = 100\n",
    "end = 150\n",
    "printing_palindromes(start, end)"
   ]
  },
  {
   "cell_type": "markdown",
   "id": "e1ea5a26",
   "metadata": {},
   "source": [
    "Q3. Create a class Employee with attributes emp_id, name, and salary. Write methods to: \n",
    "• Display employee details \n",
    "• Write the details to a file named employee_data.txt in CSV format \n",
    "• Read from the file and display the content"
   ]
  },
  {
   "cell_type": "code",
   "execution_count": null,
   "id": "2d682c60",
   "metadata": {},
   "outputs": [
    {
     "name": "stdout",
     "output_type": "stream",
     "text": [
      "Employee ID: 101\n",
      "Name: sita\n",
      "Salary: 50000\n",
      "Employee ID: 102\n",
      "Name: gita\n",
      "Salary: 60000\n",
      "\n",
      "Contents of the file:\n",
      "Employee ID: 101, Name: sita, Salary: 50000\n",
      "Employee ID: 102, Name: gita, Salary: 60000\n"
     ]
    }
   ],
   "source": [
    "import csv\n",
    "class Employee:\n",
    "    def __init__(self, emp_id, name, salary):\n",
    "        self.emp_id = emp_id\n",
    "        self.name = name\n",
    "        self.salary = salary\n",
    "\n",
    "    def display_details(self):\n",
    "        print(f\"Employee ID: {self.emp_id}\")\n",
    "        print(f\"Name: {self.name}\")\n",
    "        print(f\"Salary: {self.salary}\")\n",
    "\n",
    "    def write_to_file(self, filename='employee_data.txt'):\n",
    "        with open(filename, mode='a', newline='') as file:\n",
    "            writer = csv.writer(file)\n",
    "            writer.writerow([self.emp_id, self.name, self.salary])\n",
    "    def read_from_file(filename='employee_data.txt'):\n",
    "        print(\"\\nContents of the file:\")\n",
    "        with open(filename, mode='r') as file:\n",
    "            reader = csv.reader(file)\n",
    "            for row in reader:\n",
    "                print(f\"Employee ID: {row[0]}, Name: {row[1]}, Salary: {row[2]}\")\n",
    "emp1=Employee(101, \"sita\", 50000)\n",
    "emp2=Employee(102, \"gita\", 60000)\n",
    "emp1.display_details()\n",
    "emp2.display_details()\n",
    "emp1.write_to_file()\n",
    "emp2.write_to_file()\n",
    "Employee.read_from_file()\n"
   ]
  },
  {
   "cell_type": "markdown",
   "id": "600a79b2",
   "metadata": {},
   "source": [
    "Q4. Create a class LogAnalyzer that reads a file called log.txt, counts the number of lines that contain \n",
    "the word \"error\" (case-insensitive), and prints the count. Include proper function(s) and file \n",
    "handling. Assume log.txt contains multiple lines."
   ]
  },
  {
   "cell_type": "code",
   "execution_count": 21,
   "id": "641d3bab",
   "metadata": {},
   "outputs": [
    {
     "name": "stdout",
     "output_type": "stream",
     "text": [
      "Number of lines with 'error': 4\n"
     ]
    }
   ],
   "source": [
    "class LogAnalyzer:\n",
    "    def __init__(self, filename):\n",
    "        self.filename = filename\n",
    "    def count_errors(self):\n",
    "        cnt = 0\n",
    "        try:\n",
    "            with open(self.filename, 'r') as file:\n",
    "                for line in file:\n",
    "                    if 'error' in line.lower():\n",
    "                        cnt += 1\n",
    "            print(\"Number of lines with 'error':\", cnt)\n",
    "        except FileNotFoundError:\n",
    "            print(f\"file '{self.filename}' not found.\")\n",
    "analyzer = LogAnalyzer(\"log.txt\")\n",
    "analyzer.count_errors()\n"
   ]
  }
 ],
 "metadata": {
  "kernelspec": {
   "display_name": "Python 3",
   "language": "python",
   "name": "python3"
  },
  "language_info": {
   "codemirror_mode": {
    "name": "ipython",
    "version": 3
   },
   "file_extension": ".py",
   "mimetype": "text/x-python",
   "name": "python",
   "nbconvert_exporter": "python",
   "pygments_lexer": "ipython3",
   "version": "3.12.10"
  }
 },
 "nbformat": 4,
 "nbformat_minor": 5
}
